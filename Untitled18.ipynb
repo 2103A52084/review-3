{
  "nbformat": 4,
  "nbformat_minor": 0,
  "metadata": {
    "colab": {
      "provenance": []
    },
    "kernelspec": {
      "name": "python3",
      "display_name": "Python 3"
    },
    "language_info": {
      "name": "python"
    }
  },
  "cells": [
    {
      "cell_type": "code",
      "execution_count": 41,
      "metadata": {
        "id": "ENLzC2T2TKd4"
      },
      "outputs": [],
      "source": [
        "import numpy as np\n",
        "import pandas as pd\n",
        "from sklearn.model_selection import train_test_split\n",
        "from sklearn.linear_model import LogisticRegression\n",
        "from sklearn.metrics import accuracy_score"
      ]
    },
    {
      "cell_type": "code",
      "source": [
        "data=pd.read_csv('/content/cancer patient data sets.csv')"
      ],
      "metadata": {
        "id": "QOmxp1osUAkz"
      },
      "execution_count": 42,
      "outputs": []
    },
    {
      "cell_type": "code",
      "source": [
        "data[data['Level'] == 'Low'] = int(0)\n",
        "data[data['Level'] == 'Medium'] = int(1)\n",
        "data[data['Level'] == 'High'] = int(2)\n",
        "\n",
        "\n",
        "\n",
        "data = data.astype({'Level':'int'})\n",
        "data = data.astype({'Patient Id':'int'})\n",
        "\n",
        "\n",
        "data.head()"
      ],
      "metadata": {
        "colab": {
          "base_uri": "https://localhost:8080/",
          "height": 351
        },
        "id": "Urg8aMHEUVql",
        "outputId": "b3e1f539-cbde-47dd-8bae-598977fbf8df"
      },
      "execution_count": 43,
      "outputs": [
        {
          "output_type": "execute_result",
          "data": {
            "text/plain": [
              "   index  Patient Id  Age  Gender  Air Pollution  Alcohol use  Dust Allergy  \\\n",
              "0      0           0    0       0              0            0             0   \n",
              "1      1           1    1       1              1            1             1   \n",
              "2      2           2    2       2              2            2             2   \n",
              "3      2           2    2       2              2            2             2   \n",
              "4      2           2    2       2              2            2             2   \n",
              "\n",
              "   OccuPational Hazards  Genetic Risk  chronic Lung Disease  ...  Fatigue  \\\n",
              "0                     0             0                     0  ...        0   \n",
              "1                     1             1                     1  ...        1   \n",
              "2                     2             2                     2  ...        2   \n",
              "3                     2             2                     2  ...        2   \n",
              "4                     2             2                     2  ...        2   \n",
              "\n",
              "   Weight Loss  Shortness of Breath  Wheezing  Swallowing Difficulty  \\\n",
              "0            0                    0         0                      0   \n",
              "1            1                    1         1                      1   \n",
              "2            2                    2         2                      2   \n",
              "3            2                    2         2                      2   \n",
              "4            2                    2         2                      2   \n",
              "\n",
              "   Clubbing of Finger Nails  Frequent Cold  Dry Cough  Snoring  Level  \n",
              "0                         0              0          0        0      0  \n",
              "1                         1              1          1        1      1  \n",
              "2                         2              2          2        2      2  \n",
              "3                         2              2          2        2      2  \n",
              "4                         2              2          2        2      2  \n",
              "\n",
              "[5 rows x 26 columns]"
            ],
            "text/html": [
              "\n",
              "  <div id=\"df-273f216a-17b6-4dbf-b3d3-a696304a1036\">\n",
              "    <div class=\"colab-df-container\">\n",
              "      <div>\n",
              "<style scoped>\n",
              "    .dataframe tbody tr th:only-of-type {\n",
              "        vertical-align: middle;\n",
              "    }\n",
              "\n",
              "    .dataframe tbody tr th {\n",
              "        vertical-align: top;\n",
              "    }\n",
              "\n",
              "    .dataframe thead th {\n",
              "        text-align: right;\n",
              "    }\n",
              "</style>\n",
              "<table border=\"1\" class=\"dataframe\">\n",
              "  <thead>\n",
              "    <tr style=\"text-align: right;\">\n",
              "      <th></th>\n",
              "      <th>index</th>\n",
              "      <th>Patient Id</th>\n",
              "      <th>Age</th>\n",
              "      <th>Gender</th>\n",
              "      <th>Air Pollution</th>\n",
              "      <th>Alcohol use</th>\n",
              "      <th>Dust Allergy</th>\n",
              "      <th>OccuPational Hazards</th>\n",
              "      <th>Genetic Risk</th>\n",
              "      <th>chronic Lung Disease</th>\n",
              "      <th>...</th>\n",
              "      <th>Fatigue</th>\n",
              "      <th>Weight Loss</th>\n",
              "      <th>Shortness of Breath</th>\n",
              "      <th>Wheezing</th>\n",
              "      <th>Swallowing Difficulty</th>\n",
              "      <th>Clubbing of Finger Nails</th>\n",
              "      <th>Frequent Cold</th>\n",
              "      <th>Dry Cough</th>\n",
              "      <th>Snoring</th>\n",
              "      <th>Level</th>\n",
              "    </tr>\n",
              "  </thead>\n",
              "  <tbody>\n",
              "    <tr>\n",
              "      <th>0</th>\n",
              "      <td>0</td>\n",
              "      <td>0</td>\n",
              "      <td>0</td>\n",
              "      <td>0</td>\n",
              "      <td>0</td>\n",
              "      <td>0</td>\n",
              "      <td>0</td>\n",
              "      <td>0</td>\n",
              "      <td>0</td>\n",
              "      <td>0</td>\n",
              "      <td>...</td>\n",
              "      <td>0</td>\n",
              "      <td>0</td>\n",
              "      <td>0</td>\n",
              "      <td>0</td>\n",
              "      <td>0</td>\n",
              "      <td>0</td>\n",
              "      <td>0</td>\n",
              "      <td>0</td>\n",
              "      <td>0</td>\n",
              "      <td>0</td>\n",
              "    </tr>\n",
              "    <tr>\n",
              "      <th>1</th>\n",
              "      <td>1</td>\n",
              "      <td>1</td>\n",
              "      <td>1</td>\n",
              "      <td>1</td>\n",
              "      <td>1</td>\n",
              "      <td>1</td>\n",
              "      <td>1</td>\n",
              "      <td>1</td>\n",
              "      <td>1</td>\n",
              "      <td>1</td>\n",
              "      <td>...</td>\n",
              "      <td>1</td>\n",
              "      <td>1</td>\n",
              "      <td>1</td>\n",
              "      <td>1</td>\n",
              "      <td>1</td>\n",
              "      <td>1</td>\n",
              "      <td>1</td>\n",
              "      <td>1</td>\n",
              "      <td>1</td>\n",
              "      <td>1</td>\n",
              "    </tr>\n",
              "    <tr>\n",
              "      <th>2</th>\n",
              "      <td>2</td>\n",
              "      <td>2</td>\n",
              "      <td>2</td>\n",
              "      <td>2</td>\n",
              "      <td>2</td>\n",
              "      <td>2</td>\n",
              "      <td>2</td>\n",
              "      <td>2</td>\n",
              "      <td>2</td>\n",
              "      <td>2</td>\n",
              "      <td>...</td>\n",
              "      <td>2</td>\n",
              "      <td>2</td>\n",
              "      <td>2</td>\n",
              "      <td>2</td>\n",
              "      <td>2</td>\n",
              "      <td>2</td>\n",
              "      <td>2</td>\n",
              "      <td>2</td>\n",
              "      <td>2</td>\n",
              "      <td>2</td>\n",
              "    </tr>\n",
              "    <tr>\n",
              "      <th>3</th>\n",
              "      <td>2</td>\n",
              "      <td>2</td>\n",
              "      <td>2</td>\n",
              "      <td>2</td>\n",
              "      <td>2</td>\n",
              "      <td>2</td>\n",
              "      <td>2</td>\n",
              "      <td>2</td>\n",
              "      <td>2</td>\n",
              "      <td>2</td>\n",
              "      <td>...</td>\n",
              "      <td>2</td>\n",
              "      <td>2</td>\n",
              "      <td>2</td>\n",
              "      <td>2</td>\n",
              "      <td>2</td>\n",
              "      <td>2</td>\n",
              "      <td>2</td>\n",
              "      <td>2</td>\n",
              "      <td>2</td>\n",
              "      <td>2</td>\n",
              "    </tr>\n",
              "    <tr>\n",
              "      <th>4</th>\n",
              "      <td>2</td>\n",
              "      <td>2</td>\n",
              "      <td>2</td>\n",
              "      <td>2</td>\n",
              "      <td>2</td>\n",
              "      <td>2</td>\n",
              "      <td>2</td>\n",
              "      <td>2</td>\n",
              "      <td>2</td>\n",
              "      <td>2</td>\n",
              "      <td>...</td>\n",
              "      <td>2</td>\n",
              "      <td>2</td>\n",
              "      <td>2</td>\n",
              "      <td>2</td>\n",
              "      <td>2</td>\n",
              "      <td>2</td>\n",
              "      <td>2</td>\n",
              "      <td>2</td>\n",
              "      <td>2</td>\n",
              "      <td>2</td>\n",
              "    </tr>\n",
              "  </tbody>\n",
              "</table>\n",
              "<p>5 rows × 26 columns</p>\n",
              "</div>\n",
              "      <button class=\"colab-df-convert\" onclick=\"convertToInteractive('df-273f216a-17b6-4dbf-b3d3-a696304a1036')\"\n",
              "              title=\"Convert this dataframe to an interactive table.\"\n",
              "              style=\"display:none;\">\n",
              "        \n",
              "  <svg xmlns=\"http://www.w3.org/2000/svg\" height=\"24px\"viewBox=\"0 0 24 24\"\n",
              "       width=\"24px\">\n",
              "    <path d=\"M0 0h24v24H0V0z\" fill=\"none\"/>\n",
              "    <path d=\"M18.56 5.44l.94 2.06.94-2.06 2.06-.94-2.06-.94-.94-2.06-.94 2.06-2.06.94zm-11 1L8.5 8.5l.94-2.06 2.06-.94-2.06-.94L8.5 2.5l-.94 2.06-2.06.94zm10 10l.94 2.06.94-2.06 2.06-.94-2.06-.94-.94-2.06-.94 2.06-2.06.94z\"/><path d=\"M17.41 7.96l-1.37-1.37c-.4-.4-.92-.59-1.43-.59-.52 0-1.04.2-1.43.59L10.3 9.45l-7.72 7.72c-.78.78-.78 2.05 0 2.83L4 21.41c.39.39.9.59 1.41.59.51 0 1.02-.2 1.41-.59l7.78-7.78 2.81-2.81c.8-.78.8-2.07 0-2.86zM5.41 20L4 18.59l7.72-7.72 1.47 1.35L5.41 20z\"/>\n",
              "  </svg>\n",
              "      </button>\n",
              "      \n",
              "  <style>\n",
              "    .colab-df-container {\n",
              "      display:flex;\n",
              "      flex-wrap:wrap;\n",
              "      gap: 12px;\n",
              "    }\n",
              "\n",
              "    .colab-df-convert {\n",
              "      background-color: #E8F0FE;\n",
              "      border: none;\n",
              "      border-radius: 50%;\n",
              "      cursor: pointer;\n",
              "      display: none;\n",
              "      fill: #1967D2;\n",
              "      height: 32px;\n",
              "      padding: 0 0 0 0;\n",
              "      width: 32px;\n",
              "    }\n",
              "\n",
              "    .colab-df-convert:hover {\n",
              "      background-color: #E2EBFA;\n",
              "      box-shadow: 0px 1px 2px rgba(60, 64, 67, 0.3), 0px 1px 3px 1px rgba(60, 64, 67, 0.15);\n",
              "      fill: #174EA6;\n",
              "    }\n",
              "\n",
              "    [theme=dark] .colab-df-convert {\n",
              "      background-color: #3B4455;\n",
              "      fill: #D2E3FC;\n",
              "    }\n",
              "\n",
              "    [theme=dark] .colab-df-convert:hover {\n",
              "      background-color: #434B5C;\n",
              "      box-shadow: 0px 1px 3px 1px rgba(0, 0, 0, 0.15);\n",
              "      filter: drop-shadow(0px 1px 2px rgba(0, 0, 0, 0.3));\n",
              "      fill: #FFFFFF;\n",
              "    }\n",
              "  </style>\n",
              "\n",
              "      <script>\n",
              "        const buttonEl =\n",
              "          document.querySelector('#df-273f216a-17b6-4dbf-b3d3-a696304a1036 button.colab-df-convert');\n",
              "        buttonEl.style.display =\n",
              "          google.colab.kernel.accessAllowed ? 'block' : 'none';\n",
              "\n",
              "        async function convertToInteractive(key) {\n",
              "          const element = document.querySelector('#df-273f216a-17b6-4dbf-b3d3-a696304a1036');\n",
              "          const dataTable =\n",
              "            await google.colab.kernel.invokeFunction('convertToInteractive',\n",
              "                                                     [key], {});\n",
              "          if (!dataTable) return;\n",
              "\n",
              "          const docLinkHtml = 'Like what you see? Visit the ' +\n",
              "            '<a target=\"_blank\" href=https://colab.research.google.com/notebooks/data_table.ipynb>data table notebook</a>'\n",
              "            + ' to learn more about interactive tables.';\n",
              "          element.innerHTML = '';\n",
              "          dataTable['output_type'] = 'display_data';\n",
              "          await google.colab.output.renderOutput(dataTable, element);\n",
              "          const docLink = document.createElement('div');\n",
              "          docLink.innerHTML = docLinkHtml;\n",
              "          element.appendChild(docLink);\n",
              "        }\n",
              "      </script>\n",
              "    </div>\n",
              "  </div>\n",
              "  "
            ]
          },
          "metadata": {},
          "execution_count": 43
        }
      ]
    },
    {
      "cell_type": "code",
      "source": [
        "data.shape"
      ],
      "metadata": {
        "colab": {
          "base_uri": "https://localhost:8080/"
        },
        "id": "OBrYzxTZUZ8p",
        "outputId": "e4ac9430-38d3-47cf-ffc4-f5f42e4d3a89"
      },
      "execution_count": 44,
      "outputs": [
        {
          "output_type": "execute_result",
          "data": {
            "text/plain": [
              "(1000, 26)"
            ]
          },
          "metadata": {},
          "execution_count": 44
        }
      ]
    },
    {
      "cell_type": "code",
      "source": [
        "data.info()"
      ],
      "metadata": {
        "colab": {
          "base_uri": "https://localhost:8080/"
        },
        "id": "5YNPSvirUruM",
        "outputId": "7b8c3b42-75a1-4a49-b9a4-eb811c3079e2"
      },
      "execution_count": 45,
      "outputs": [
        {
          "output_type": "stream",
          "name": "stdout",
          "text": [
            "<class 'pandas.core.frame.DataFrame'>\n",
            "RangeIndex: 1000 entries, 0 to 999\n",
            "Data columns (total 26 columns):\n",
            " #   Column                    Non-Null Count  Dtype\n",
            "---  ------                    --------------  -----\n",
            " 0   index                     1000 non-null   int64\n",
            " 1   Patient Id                1000 non-null   int64\n",
            " 2   Age                       1000 non-null   int64\n",
            " 3   Gender                    1000 non-null   int64\n",
            " 4   Air Pollution             1000 non-null   int64\n",
            " 5   Alcohol use               1000 non-null   int64\n",
            " 6   Dust Allergy              1000 non-null   int64\n",
            " 7   OccuPational Hazards      1000 non-null   int64\n",
            " 8   Genetic Risk              1000 non-null   int64\n",
            " 9   chronic Lung Disease      1000 non-null   int64\n",
            " 10  Balanced Diet             1000 non-null   int64\n",
            " 11  Obesity                   1000 non-null   int64\n",
            " 12  Smoking                   1000 non-null   int64\n",
            " 13  Passive Smoker            1000 non-null   int64\n",
            " 14  Chest Pain                1000 non-null   int64\n",
            " 15  Coughing of Blood         1000 non-null   int64\n",
            " 16  Fatigue                   1000 non-null   int64\n",
            " 17  Weight Loss               1000 non-null   int64\n",
            " 18  Shortness of Breath       1000 non-null   int64\n",
            " 19  Wheezing                  1000 non-null   int64\n",
            " 20  Swallowing Difficulty     1000 non-null   int64\n",
            " 21  Clubbing of Finger Nails  1000 non-null   int64\n",
            " 22  Frequent Cold             1000 non-null   int64\n",
            " 23  Dry Cough                 1000 non-null   int64\n",
            " 24  Snoring                   1000 non-null   int64\n",
            " 25  Level                     1000 non-null   int64\n",
            "dtypes: int64(26)\n",
            "memory usage: 203.2 KB\n"
          ]
        }
      ]
    },
    {
      "cell_type": "code",
      "source": [
        "data.isnull().sum()"
      ],
      "metadata": {
        "colab": {
          "base_uri": "https://localhost:8080/"
        },
        "id": "NIPnBtWzVDc3",
        "outputId": "c994063f-18cd-4d84-8afa-e47f6df7b33f"
      },
      "execution_count": 46,
      "outputs": [
        {
          "output_type": "execute_result",
          "data": {
            "text/plain": [
              "index                       0\n",
              "Patient Id                  0\n",
              "Age                         0\n",
              "Gender                      0\n",
              "Air Pollution               0\n",
              "Alcohol use                 0\n",
              "Dust Allergy                0\n",
              "OccuPational Hazards        0\n",
              "Genetic Risk                0\n",
              "chronic Lung Disease        0\n",
              "Balanced Diet               0\n",
              "Obesity                     0\n",
              "Smoking                     0\n",
              "Passive Smoker              0\n",
              "Chest Pain                  0\n",
              "Coughing of Blood           0\n",
              "Fatigue                     0\n",
              "Weight Loss                 0\n",
              "Shortness of Breath         0\n",
              "Wheezing                    0\n",
              "Swallowing Difficulty       0\n",
              "Clubbing of Finger Nails    0\n",
              "Frequent Cold               0\n",
              "Dry Cough                   0\n",
              "Snoring                     0\n",
              "Level                       0\n",
              "dtype: int64"
            ]
          },
          "metadata": {},
          "execution_count": 46
        }
      ]
    },
    {
      "cell_type": "code",
      "source": [],
      "metadata": {
        "id": "BD6SytjNVXmX"
      },
      "execution_count": 46,
      "outputs": []
    },
    {
      "cell_type": "code",
      "source": [
        "import numpy as np\n",
        "import pandas as pd\n",
        "from sklearn.model_selection import train_test_split\n",
        "from sklearn.linear_model import LogisticRegression\n",
        "from sklearn.metrics import accuracy_score\n",
        "x=data.drop(columns='Level',axis=1)\n",
        "y=data['Level']\n",
        "print(x)\n",
        "print(y)\n",
        "x_train,x_test,y_train,y_test=train_test_split(x,y,test_size=0.2,stratify=y,random_state=2)\n",
        "model=LogisticRegression()\n",
        "model.fit(x_train,y_train)\n",
        "x_train_prediction=model.predict(x_train)\n",
        "training_data_accuracy=accuracy_score(x_train_prediction,y_train)\n",
        "print(\"THE ACCURACY SCORE OF OUR MODEL IS:\",training_data_accuracy)\n",
        "x_test_prediction=model.predict(x_test)\n",
        "test_data_accuracy=accuracy_score(x_test_prediction,y_test)\n",
        "print(\"THE TESTING ACCURACY OF OUR MODEL IS:\",test_data_accuracy)"
      ],
      "metadata": {
        "id": "eSsQCUosVuEt",
        "outputId": "e6ff5733-513c-4f21-91b3-4f29504c367b",
        "colab": {
          "base_uri": "https://localhost:8080/"
        }
      },
      "execution_count": 47,
      "outputs": [
        {
          "output_type": "stream",
          "name": "stdout",
          "text": [
            "     index  Patient Id  Age  Gender  Air Pollution  Alcohol use  Dust Allergy  \\\n",
            "0        0           0    0       0              0            0             0   \n",
            "1        1           1    1       1              1            1             1   \n",
            "2        2           2    2       2              2            2             2   \n",
            "3        2           2    2       2              2            2             2   \n",
            "4        2           2    2       2              2            2             2   \n",
            "..     ...         ...  ...     ...            ...          ...           ...   \n",
            "995      2           2    2       2              2            2             2   \n",
            "996      2           2    2       2              2            2             2   \n",
            "997      2           2    2       2              2            2             2   \n",
            "998      2           2    2       2              2            2             2   \n",
            "999      2           2    2       2              2            2             2   \n",
            "\n",
            "     OccuPational Hazards  Genetic Risk  chronic Lung Disease  ...  \\\n",
            "0                       0             0                     0  ...   \n",
            "1                       1             1                     1  ...   \n",
            "2                       2             2                     2  ...   \n",
            "3                       2             2                     2  ...   \n",
            "4                       2             2                     2  ...   \n",
            "..                    ...           ...                   ...  ...   \n",
            "995                     2             2                     2  ...   \n",
            "996                     2             2                     2  ...   \n",
            "997                     2             2                     2  ...   \n",
            "998                     2             2                     2  ...   \n",
            "999                     2             2                     2  ...   \n",
            "\n",
            "     Coughing of Blood  Fatigue  Weight Loss  Shortness of Breath  Wheezing  \\\n",
            "0                    0        0            0                    0         0   \n",
            "1                    1        1            1                    1         1   \n",
            "2                    2        2            2                    2         2   \n",
            "3                    2        2            2                    2         2   \n",
            "4                    2        2            2                    2         2   \n",
            "..                 ...      ...          ...                  ...       ...   \n",
            "995                  2        2            2                    2         2   \n",
            "996                  2        2            2                    2         2   \n",
            "997                  2        2            2                    2         2   \n",
            "998                  2        2            2                    2         2   \n",
            "999                  2        2            2                    2         2   \n",
            "\n",
            "     Swallowing Difficulty  Clubbing of Finger Nails  Frequent Cold  \\\n",
            "0                        0                         0              0   \n",
            "1                        1                         1              1   \n",
            "2                        2                         2              2   \n",
            "3                        2                         2              2   \n",
            "4                        2                         2              2   \n",
            "..                     ...                       ...            ...   \n",
            "995                      2                         2              2   \n",
            "996                      2                         2              2   \n",
            "997                      2                         2              2   \n",
            "998                      2                         2              2   \n",
            "999                      2                         2              2   \n",
            "\n",
            "     Dry Cough  Snoring  \n",
            "0            0        0  \n",
            "1            1        1  \n",
            "2            2        2  \n",
            "3            2        2  \n",
            "4            2        2  \n",
            "..         ...      ...  \n",
            "995          2        2  \n",
            "996          2        2  \n",
            "997          2        2  \n",
            "998          2        2  \n",
            "999          2        2  \n",
            "\n",
            "[1000 rows x 25 columns]\n",
            "0      0\n",
            "1      1\n",
            "2      2\n",
            "3      2\n",
            "4      2\n",
            "      ..\n",
            "995    2\n",
            "996    2\n",
            "997    2\n",
            "998    2\n",
            "999    2\n",
            "Name: Level, Length: 1000, dtype: int64\n",
            "THE ACCURACY SCORE OF OUR MODEL IS: 1.0\n",
            "THE TESTING ACCURACY OF OUR MODEL IS: 1.0\n"
          ]
        }
      ]
    },
    {
      "cell_type": "code",
      "source": [
        "print(x)"
      ],
      "metadata": {
        "colab": {
          "base_uri": "https://localhost:8080/"
        },
        "id": "T7nZ0VVtVvC5",
        "outputId": "ad016044-1ec8-48f4-a951-202bb6723d48"
      },
      "execution_count": 48,
      "outputs": [
        {
          "output_type": "stream",
          "name": "stdout",
          "text": [
            "     index  Patient Id  Age  Gender  Air Pollution  Alcohol use  Dust Allergy  \\\n",
            "0        0           0    0       0              0            0             0   \n",
            "1        1           1    1       1              1            1             1   \n",
            "2        2           2    2       2              2            2             2   \n",
            "3        2           2    2       2              2            2             2   \n",
            "4        2           2    2       2              2            2             2   \n",
            "..     ...         ...  ...     ...            ...          ...           ...   \n",
            "995      2           2    2       2              2            2             2   \n",
            "996      2           2    2       2              2            2             2   \n",
            "997      2           2    2       2              2            2             2   \n",
            "998      2           2    2       2              2            2             2   \n",
            "999      2           2    2       2              2            2             2   \n",
            "\n",
            "     OccuPational Hazards  Genetic Risk  chronic Lung Disease  ...  \\\n",
            "0                       0             0                     0  ...   \n",
            "1                       1             1                     1  ...   \n",
            "2                       2             2                     2  ...   \n",
            "3                       2             2                     2  ...   \n",
            "4                       2             2                     2  ...   \n",
            "..                    ...           ...                   ...  ...   \n",
            "995                     2             2                     2  ...   \n",
            "996                     2             2                     2  ...   \n",
            "997                     2             2                     2  ...   \n",
            "998                     2             2                     2  ...   \n",
            "999                     2             2                     2  ...   \n",
            "\n",
            "     Coughing of Blood  Fatigue  Weight Loss  Shortness of Breath  Wheezing  \\\n",
            "0                    0        0            0                    0         0   \n",
            "1                    1        1            1                    1         1   \n",
            "2                    2        2            2                    2         2   \n",
            "3                    2        2            2                    2         2   \n",
            "4                    2        2            2                    2         2   \n",
            "..                 ...      ...          ...                  ...       ...   \n",
            "995                  2        2            2                    2         2   \n",
            "996                  2        2            2                    2         2   \n",
            "997                  2        2            2                    2         2   \n",
            "998                  2        2            2                    2         2   \n",
            "999                  2        2            2                    2         2   \n",
            "\n",
            "     Swallowing Difficulty  Clubbing of Finger Nails  Frequent Cold  \\\n",
            "0                        0                         0              0   \n",
            "1                        1                         1              1   \n",
            "2                        2                         2              2   \n",
            "3                        2                         2              2   \n",
            "4                        2                         2              2   \n",
            "..                     ...                       ...            ...   \n",
            "995                      2                         2              2   \n",
            "996                      2                         2              2   \n",
            "997                      2                         2              2   \n",
            "998                      2                         2              2   \n",
            "999                      2                         2              2   \n",
            "\n",
            "     Dry Cough  Snoring  \n",
            "0            0        0  \n",
            "1            1        1  \n",
            "2            2        2  \n",
            "3            2        2  \n",
            "4            2        2  \n",
            "..         ...      ...  \n",
            "995          2        2  \n",
            "996          2        2  \n",
            "997          2        2  \n",
            "998          2        2  \n",
            "999          2        2  \n",
            "\n",
            "[1000 rows x 25 columns]\n"
          ]
        }
      ]
    },
    {
      "cell_type": "code",
      "source": [
        "print(y)\n",
        "y.shape"
      ],
      "metadata": {
        "colab": {
          "base_uri": "https://localhost:8080/"
        },
        "id": "TkbOc9bQVv9D",
        "outputId": "e45daaf7-22c5-43b2-ff2d-ba92c09c0417"
      },
      "execution_count": 49,
      "outputs": [
        {
          "output_type": "stream",
          "name": "stdout",
          "text": [
            "0      0\n",
            "1      1\n",
            "2      2\n",
            "3      2\n",
            "4      2\n",
            "      ..\n",
            "995    2\n",
            "996    2\n",
            "997    2\n",
            "998    2\n",
            "999    2\n",
            "Name: Level, Length: 1000, dtype: int64\n"
          ]
        },
        {
          "output_type": "execute_result",
          "data": {
            "text/plain": [
              "(1000,)"
            ]
          },
          "metadata": {},
          "execution_count": 49
        }
      ]
    },
    {
      "cell_type": "code",
      "source": [
        "x_train,x_test,y_train,y_test=train_test_split(x,y,test_size=0.2,stratify=y,random_state=2)\n",
        "model=LogisticRegression()\n",
        "model.fit(x_train,y_train)\n",
        "x_train_prediction=model.predict(x_train)\n",
        "training_data_accuracy=accuracy_score(x_train_prediction,y_train)\n",
        "print(\"THE ACCURACY SCORE OF OUR MODEL IS:\",training_data_accuracy)\n",
        "x_test_prediction=model.predict(x_test)\n",
        "test_data_accuracy=accuracy_score(x_test_prediction,y_test)\n",
        "print(\"THE TESTING ACCURACY OF OUR MODEL IS:\",test_data_accuracy)\n"
      ],
      "metadata": {
        "id": "ve8z7bgJVwNN",
        "outputId": "a939a3af-cfe8-49f3-ac82-9d224ab0b896",
        "colab": {
          "base_uri": "https://localhost:8080/"
        }
      },
      "execution_count": 50,
      "outputs": [
        {
          "output_type": "stream",
          "name": "stdout",
          "text": [
            "THE ACCURACY SCORE OF OUR MODEL IS: 1.0\n",
            "THE TESTING ACCURACY OF OUR MODEL IS: 1.0\n"
          ]
        }
      ]
    },
    {
      "cell_type": "code",
      "source": [
        "model=LogisticRegression()"
      ],
      "metadata": {
        "id": "ofzsBTj4Vwcj"
      },
      "execution_count": 51,
      "outputs": []
    },
    {
      "cell_type": "code",
      "source": [
        "model.fit(x_train,y_train)"
      ],
      "metadata": {
        "colab": {
          "base_uri": "https://localhost:8080/",
          "height": 74
        },
        "id": "Ck5xpxTfVwq6",
        "outputId": "04ffda3e-4725-4650-e20c-fc91ca6fd84c"
      },
      "execution_count": 52,
      "outputs": [
        {
          "output_type": "execute_result",
          "data": {
            "text/plain": [
              "LogisticRegression()"
            ],
            "text/html": [
              "<style>#sk-container-id-2 {color: black;background-color: white;}#sk-container-id-2 pre{padding: 0;}#sk-container-id-2 div.sk-toggleable {background-color: white;}#sk-container-id-2 label.sk-toggleable__label {cursor: pointer;display: block;width: 100%;margin-bottom: 0;padding: 0.3em;box-sizing: border-box;text-align: center;}#sk-container-id-2 label.sk-toggleable__label-arrow:before {content: \"▸\";float: left;margin-right: 0.25em;color: #696969;}#sk-container-id-2 label.sk-toggleable__label-arrow:hover:before {color: black;}#sk-container-id-2 div.sk-estimator:hover label.sk-toggleable__label-arrow:before {color: black;}#sk-container-id-2 div.sk-toggleable__content {max-height: 0;max-width: 0;overflow: hidden;text-align: left;background-color: #f0f8ff;}#sk-container-id-2 div.sk-toggleable__content pre {margin: 0.2em;color: black;border-radius: 0.25em;background-color: #f0f8ff;}#sk-container-id-2 input.sk-toggleable__control:checked~div.sk-toggleable__content {max-height: 200px;max-width: 100%;overflow: auto;}#sk-container-id-2 input.sk-toggleable__control:checked~label.sk-toggleable__label-arrow:before {content: \"▾\";}#sk-container-id-2 div.sk-estimator input.sk-toggleable__control:checked~label.sk-toggleable__label {background-color: #d4ebff;}#sk-container-id-2 div.sk-label input.sk-toggleable__control:checked~label.sk-toggleable__label {background-color: #d4ebff;}#sk-container-id-2 input.sk-hidden--visually {border: 0;clip: rect(1px 1px 1px 1px);clip: rect(1px, 1px, 1px, 1px);height: 1px;margin: -1px;overflow: hidden;padding: 0;position: absolute;width: 1px;}#sk-container-id-2 div.sk-estimator {font-family: monospace;background-color: #f0f8ff;border: 1px dotted black;border-radius: 0.25em;box-sizing: border-box;margin-bottom: 0.5em;}#sk-container-id-2 div.sk-estimator:hover {background-color: #d4ebff;}#sk-container-id-2 div.sk-parallel-item::after {content: \"\";width: 100%;border-bottom: 1px solid gray;flex-grow: 1;}#sk-container-id-2 div.sk-label:hover label.sk-toggleable__label {background-color: #d4ebff;}#sk-container-id-2 div.sk-serial::before {content: \"\";position: absolute;border-left: 1px solid gray;box-sizing: border-box;top: 0;bottom: 0;left: 50%;z-index: 0;}#sk-container-id-2 div.sk-serial {display: flex;flex-direction: column;align-items: center;background-color: white;padding-right: 0.2em;padding-left: 0.2em;position: relative;}#sk-container-id-2 div.sk-item {position: relative;z-index: 1;}#sk-container-id-2 div.sk-parallel {display: flex;align-items: stretch;justify-content: center;background-color: white;position: relative;}#sk-container-id-2 div.sk-item::before, #sk-container-id-2 div.sk-parallel-item::before {content: \"\";position: absolute;border-left: 1px solid gray;box-sizing: border-box;top: 0;bottom: 0;left: 50%;z-index: -1;}#sk-container-id-2 div.sk-parallel-item {display: flex;flex-direction: column;z-index: 1;position: relative;background-color: white;}#sk-container-id-2 div.sk-parallel-item:first-child::after {align-self: flex-end;width: 50%;}#sk-container-id-2 div.sk-parallel-item:last-child::after {align-self: flex-start;width: 50%;}#sk-container-id-2 div.sk-parallel-item:only-child::after {width: 0;}#sk-container-id-2 div.sk-dashed-wrapped {border: 1px dashed gray;margin: 0 0.4em 0.5em 0.4em;box-sizing: border-box;padding-bottom: 0.4em;background-color: white;}#sk-container-id-2 div.sk-label label {font-family: monospace;font-weight: bold;display: inline-block;line-height: 1.2em;}#sk-container-id-2 div.sk-label-container {text-align: center;}#sk-container-id-2 div.sk-container {/* jupyter's `normalize.less` sets `[hidden] { display: none; }` but bootstrap.min.css set `[hidden] { display: none !important; }` so we also need the `!important` here to be able to override the default hidden behavior on the sphinx rendered scikit-learn.org. See: https://github.com/scikit-learn/scikit-learn/issues/21755 */display: inline-block !important;position: relative;}#sk-container-id-2 div.sk-text-repr-fallback {display: none;}</style><div id=\"sk-container-id-2\" class=\"sk-top-container\"><div class=\"sk-text-repr-fallback\"><pre>LogisticRegression()</pre><b>In a Jupyter environment, please rerun this cell to show the HTML representation or trust the notebook. <br />On GitHub, the HTML representation is unable to render, please try loading this page with nbviewer.org.</b></div><div class=\"sk-container\" hidden><div class=\"sk-item\"><div class=\"sk-estimator sk-toggleable\"><input class=\"sk-toggleable__control sk-hidden--visually\" id=\"sk-estimator-id-2\" type=\"checkbox\" checked><label for=\"sk-estimator-id-2\" class=\"sk-toggleable__label sk-toggleable__label-arrow\">LogisticRegression</label><div class=\"sk-toggleable__content\"><pre>LogisticRegression()</pre></div></div></div></div></div>"
            ]
          },
          "metadata": {},
          "execution_count": 52
        }
      ]
    },
    {
      "cell_type": "code",
      "source": [
        "'''accuracy on training data'''\n",
        "x_train_prediction=model.predict(x_train)\n",
        "training_data_accuracy=accuracy_score(x_train_prediction,y_train)"
      ],
      "metadata": {
        "id": "YicYcdGxVw4c"
      },
      "execution_count": 53,
      "outputs": []
    },
    {
      "cell_type": "code",
      "source": [
        "print(\"THE ACCURACY SCORE OF OUR MODEL IS:\",training_data_accuracy)"
      ],
      "metadata": {
        "colab": {
          "base_uri": "https://localhost:8080/"
        },
        "id": "5YHY-JW5VxFb",
        "outputId": "027b2c27-adb7-409d-b26f-ec7a7d2f0bdd"
      },
      "execution_count": 54,
      "outputs": [
        {
          "output_type": "stream",
          "name": "stdout",
          "text": [
            "THE ACCURACY SCORE OF OUR MODEL IS: 1.0\n"
          ]
        }
      ]
    },
    {
      "cell_type": "code",
      "source": [
        "x_test_prediction=model.predict(x_test)\n",
        "test_data_accuracy=accuracy_score(x_test_prediction,y_test)"
      ],
      "metadata": {
        "id": "5w-SZYJ7VxTB"
      },
      "execution_count": 55,
      "outputs": []
    },
    {
      "cell_type": "code",
      "source": [
        "print(\"THE TESTING ACCURACY OF OUR MODEL IS:\",test_data_accuracy)"
      ],
      "metadata": {
        "colab": {
          "base_uri": "https://localhost:8080/"
        },
        "id": "5JrP3ppdcaPH",
        "outputId": "68e1256b-31ee-4da2-b216-3debc69b761d"
      },
      "execution_count": 56,
      "outputs": [
        {
          "output_type": "stream",
          "name": "stdout",
          "text": [
            "THE TESTING ACCURACY OF OUR MODEL IS: 1.0\n"
          ]
        }
      ]
    },
    {
      "cell_type": "code",
      "source": [],
      "metadata": {
        "id": "sN5GEEwacrRz"
      },
      "execution_count": 56,
      "outputs": []
    },
    {
      "cell_type": "code",
      "source": [
        "import seaborn as sns\n",
        "import matplotlib.pyplot as plt\n",
        "from sklearn.metrics import confusion_matrix\n",
        "cm = confusion_matrix(y_test, x_test_prediction)\n",
        "sns.heatmap(confusion_matrix(y_test, x_test_prediction), annot=True,fmt=\"d\")\n",
        "plt.show()"
      ],
      "metadata": {
        "id": "14yAnRzvLZ4h",
        "outputId": "35989836-b687-47b2-8305-6b942d298050",
        "colab": {
          "base_uri": "https://localhost:8080/",
          "height": 430
        }
      },
      "execution_count": 57,
      "outputs": [
        {
          "output_type": "display_data",
          "data": {
            "text/plain": [
              "<Figure size 640x480 with 2 Axes>"
            ],
            "image/png": "[encoded data removed]"
          },
          "metadata": {}
        }
      ]
    }
  ]
}